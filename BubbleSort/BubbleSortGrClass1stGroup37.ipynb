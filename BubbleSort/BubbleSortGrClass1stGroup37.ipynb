{
  "nbformat": 4,
  "nbformat_minor": 0,
  "metadata": {
    "colab": {
      "name": "BubbleSortGrClass1stGroup37",
      "provenance": []
    },
    "kernelspec": {
      "name": "python3",
      "display_name": "Python 3"
    }
  },
  "cells": [
    {
      "cell_type": "markdown",
      "metadata": {
        "id": "Q4WdHb1ifCxz"
      },
      "source": [
        "# Lab 10. Bubble Sort Distribution - Fibonacci Time\r\n",
        "\r\n",
        "- Molina Diaz, Sebastian Leonardo: smolinad@unal.edu.co\r\n",
        "\r\n",
        "- Alvarez Velasquez, Luiggi Alexander: luaalvarezve@unal.edu.co"
      ]
    },
    {
      "cell_type": "code",
      "metadata": {
        "id": "DAL4I2U6fBWr"
      },
      "source": [
        "def bubbleSort(v: list):\r\n",
        "        \r\n",
        "        pasos = 0\r\n",
        "        r = len(v)\r\n",
        "        cadena = [r];\r\n",
        "        for i in range (r):\r\n",
        "            cadena.append(v[i])\r\n",
        "            print (cadena[i])\r\n",
        "        \r\n",
        "        for m in range (len(cadena)):\r\n",
        "           for j in range (len(cadena)-1):\r\n",
        "\t\t\t\t  \r\n",
        "             if(cadena[j] < cadena[j-1]):\r\n",
        "                 swap(cadena,j,j-1);\r\n",
        "                 pasos+=1\r\n",
        "\r\n",
        "        return pasos;\r\n",
        "  "
      ],
      "execution_count": 36,
      "outputs": []
    },
    {
      "cell_type": "code",
      "metadata": {
        "colab": {
          "base_uri": "https://localhost:8080/",
          "height": 129
        },
        "id": "Vv0IDP5K9RV_",
        "outputId": "3ed8c662-763c-469c-bcb3-d3cc5afac310"
      },
      "source": [
        "def swap(v: list, i: int, j: int):\r\n",
        "  t=0\r\n",
        "  t=v[i]\r\n",
        "  v[i] = v[j]\r\n",
        "\tv[j] = t \r\n",
        "return v\r\n",
        "\r\n"
      ],
      "execution_count": 45,
      "outputs": [
        {
          "output_type": "error",
          "ename": "TabError",
          "evalue": "ignored",
          "traceback": [
            "\u001b[0;36m  File \u001b[0;32m\"<ipython-input-45-e85491aef3b0>\"\u001b[0;36m, line \u001b[0;32m5\u001b[0m\n\u001b[0;31m    v[j] = t\u001b[0m\n\u001b[0m             ^\u001b[0m\n\u001b[0;31mTabError\u001b[0m\u001b[0;31m:\u001b[0m inconsistent use of tabs and spaces in indentation\n"
          ]
        }
      ]
    },
    {
      "cell_type": "code",
      "metadata": {
        "colab": {
          "base_uri": "https://localhost:8080/",
          "height": 333
        },
        "id": "--LkQVBx62IA",
        "outputId": "8999ebc5-3261-484c-d254-ebb977642544"
      },
      "source": [
        "bubbleSort([1,2,3])"
      ],
      "execution_count": 37,
      "outputs": [
        {
          "output_type": "stream",
          "text": [
            "3\n",
            "1\n",
            "2\n"
          ],
          "name": "stdout"
        },
        {
          "output_type": "error",
          "ename": "NameError",
          "evalue": "ignored",
          "traceback": [
            "\u001b[0;31m---------------------------------------------------------------------------\u001b[0m",
            "\u001b[0;31mNameError\u001b[0m                                 Traceback (most recent call last)",
            "\u001b[0;32m<ipython-input-37-2f035f608fc0>\u001b[0m in \u001b[0;36m<module>\u001b[0;34m()\u001b[0m\n\u001b[0;32m----> 1\u001b[0;31m \u001b[0mbubbleSort\u001b[0m\u001b[0;34m(\u001b[0m\u001b[0;34m[\u001b[0m\u001b[0;36m1\u001b[0m\u001b[0;34m,\u001b[0m\u001b[0;36m2\u001b[0m\u001b[0;34m,\u001b[0m\u001b[0;36m3\u001b[0m\u001b[0;34m]\u001b[0m\u001b[0;34m)\u001b[0m\u001b[0;34m\u001b[0m\u001b[0;34m\u001b[0m\u001b[0m\n\u001b[0m",
            "\u001b[0;32m<ipython-input-36-3ba3bc56d842>\u001b[0m in \u001b[0;36mbubbleSort\u001b[0;34m(v)\u001b[0m\n\u001b[1;32m     12\u001b[0m \u001b[0;34m\u001b[0m\u001b[0m\n\u001b[1;32m     13\u001b[0m              \u001b[0;32mif\u001b[0m\u001b[0;34m(\u001b[0m\u001b[0mcadena\u001b[0m\u001b[0;34m[\u001b[0m\u001b[0mj\u001b[0m\u001b[0;34m]\u001b[0m \u001b[0;34m<\u001b[0m \u001b[0mcadena\u001b[0m\u001b[0;34m[\u001b[0m\u001b[0mj\u001b[0m\u001b[0;34m-\u001b[0m\u001b[0;36m1\u001b[0m\u001b[0;34m]\u001b[0m\u001b[0;34m)\u001b[0m\u001b[0;34m:\u001b[0m\u001b[0;34m\u001b[0m\u001b[0;34m\u001b[0m\u001b[0m\n\u001b[0;32m---> 14\u001b[0;31m                  \u001b[0mswap\u001b[0m\u001b[0;34m(\u001b[0m\u001b[0mcadena\u001b[0m\u001b[0;34m,\u001b[0m\u001b[0mj\u001b[0m\u001b[0;34m,\u001b[0m\u001b[0mj\u001b[0m\u001b[0;34m-\u001b[0m\u001b[0;36m1\u001b[0m\u001b[0;34m)\u001b[0m\u001b[0;34m;\u001b[0m\u001b[0;34m\u001b[0m\u001b[0;34m\u001b[0m\u001b[0m\n\u001b[0m\u001b[1;32m     15\u001b[0m                  \u001b[0mpasos\u001b[0m\u001b[0;34m+=\u001b[0m\u001b[0;36m1\u001b[0m\u001b[0;34m\u001b[0m\u001b[0;34m\u001b[0m\u001b[0m\n\u001b[1;32m     16\u001b[0m \u001b[0;34m\u001b[0m\u001b[0m\n",
            "\u001b[0;31mNameError\u001b[0m: name 'swap' is not defined"
          ]
        }
      ]
    }
  ]
}