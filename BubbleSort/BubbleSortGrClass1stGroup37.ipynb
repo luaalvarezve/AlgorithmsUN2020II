{
  "nbformat": 4,
  "nbformat_minor": 0,
  "metadata": {
    "colab": {
      "name": "BubbleSortGrClass1stGroup37",
      "provenance": []
    },
    "kernelspec": {
      "name": "python3",
      "display_name": "Python 3"
    }
  },
  "cells": [
    {
      "cell_type": "markdown",
      "metadata": {
        "id": "Q4WdHb1ifCxz"
      },
      "source": [
        "# Lab 10. Bubble Sort Distribution - Fibonacci Time\r\n",
        "\r\n",
        "- Molina Diaz, Sebastian Leonardo: smolinad@unal.edu.co\r\n",
        "\r\n",
        "- Alvarez Velasquez, Luiggi Alexander: luaalvarezve@unal.edu.co"
      ]
    },
    {
      "cell_type": "code",
      "metadata": {
        "colab": {
          "base_uri": "https://localhost:8080/",
          "height": 129
        },
        "id": "DAL4I2U6fBWr",
        "outputId": "e7dc342c-25de-4760-cf93-4d98077f0558"
      },
      "source": [
        "def bubbleSort(v: list):\r\n",
        "        \r\n",
        "        pasos = 0\r\n",
        "        r = len(v)\r\n",
        "        cadena = [];\r\n",
        "        for i in range (r):\r\n",
        "            cadena[i] = v[i];\r\n",
        "        \r\n",
        "        for m in range (len(cadena)):\r\n",
        "            for( j = cadena.length-1; j >= i+1; j--)\r\n",
        "\t\t\t\tpasos++;\r\n",
        "           if(cadena[j] < cadena[j-1])\r\n",
        "\r\n",
        "        return pasos;\r\n",
        "  "
      ],
      "execution_count": 15,
      "outputs": [
        {
          "output_type": "error",
          "ename": "SyntaxError",
          "evalue": "ignored",
          "traceback": [
            "\u001b[0;36m  File \u001b[0;32m\"<ipython-input-15-91a8ca6193f8>\"\u001b[0;36m, line \u001b[0;32m10\u001b[0m\n\u001b[0;31m    for( j = cadena.length-1; j >= i+1; j--)\u001b[0m\n\u001b[0m           ^\u001b[0m\n\u001b[0;31mSyntaxError\u001b[0m\u001b[0;31m:\u001b[0m invalid syntax\n"
          ]
        }
      ]
    }
  ]
}