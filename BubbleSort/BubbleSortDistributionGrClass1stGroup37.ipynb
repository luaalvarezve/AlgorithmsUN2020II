{
  "nbformat": 4,
  "nbformat_minor": 0,
  "metadata": {
    "colab": {
      "name": "BubbleSortDistributionGrClass1stGroup37",
      "provenance": [],
      "collapsed_sections": []
    },
    "kernelspec": {
      "name": "python3",
      "display_name": "Python 3"
    }
  },
  "cells": [
    {
      "cell_type": "markdown",
      "metadata": {
        "id": "Q4WdHb1ifCxz"
      },
      "source": [
        "# Lab 10. Bubble Sort Distribution - Fibonacci Time\r\n",
        "\r\n",
        "- Molina Diaz, Sebastian Leonardo: smolinad@unal.edu.co\r\n",
        "\r\n",
        "- Alvarez Velasquez, Luiggi Alexander: luaalvarezve@unal.edu.co"
      ]
    },
    {
      "cell_type": "code",
      "metadata": {
        "id": "DAL4I2U6fBWr"
      },
      "source": [
        "def bubbleSort(cadena: list):\r\n",
        "        \r\n",
        "        pasos = 0\r\n",
        "        r = len(cadena)\r\n",
        "       \r\n",
        "        for i in range (r+1):\r\n",
        "           for j in range (0, r-i-1):\t\t\t\t  \r\n",
        "             if(cadena[j] > cadena[j+1]):                \r\n",
        "                cadena[j] = cadena[j+1]\r\n",
        "                cadena[j+1]= cadena[j] \r\n",
        "                pasos+=1\r\n",
        "        return pasos;\r\n",
        "  "
      ],
      "execution_count": 1,
      "outputs": []
    },
    {
      "cell_type": "code",
      "metadata": {
        "id": "Vv0IDP5K9RV_"
      },
      "source": [
        "def swap(arr: list, i: int, j: int):\r\n",
        "  \r\n",
        "  print (arr)\r\n"
      ],
      "execution_count": 2,
      "outputs": []
    },
    {
      "cell_type": "code",
      "metadata": {
        "id": "--LkQVBx62IA"
      },
      "source": [
        "pasos= bubbleSort([4,3,2,1])\r\n"
      ],
      "execution_count": 3,
      "outputs": []
    },
    {
      "cell_type": "code",
      "metadata": {
        "colab": {
          "base_uri": "https://localhost:8080/",
          "height": 316
        },
        "id": "BcAMCj5kYHY9",
        "outputId": "451d5611-d9db-441c-96b0-005d611e161b"
      },
      "source": [
        "# A Python program to print all \r\n",
        "# permutations using library function \r\n",
        "from itertools import permutations \r\n",
        "import matplotlib.pyplot as plt\r\n",
        "import numpy as np\r\n",
        "from matplotlib import colors\r\n",
        "from matplotlib.ticker import PercentFormatter\r\n",
        "import pandas as pd\r\n",
        "\r\n",
        "\r\n",
        "# Get all permutations of [1, 2, 3] \r\n",
        "\r\n",
        "points=[]\r\n",
        "perm = permutations([1, 2, 3, 4,5,6,7,8,9,0])\r\n",
        "for permu in perm:\r\n",
        "  array=[]\r\n",
        "  for p in permu:\r\n",
        "    array.append(p)\r\n",
        "  \r\n",
        "  pasos=bubbleSort(array)\r\n",
        "  points.append(pasos)\r\n",
        "  \r\n",
        "# Generate a normal distribution, center at x=0 and y=5\r\n",
        "n_bins=8\r\n",
        "x = points\r\n",
        "y =  6\r\n",
        "\r\n",
        "plt.xlabel = (\"# Steps\")\r\n",
        "plt.ylabel = (\"# Density\")\r\n",
        "plt.hist(x, bins=n_bins, density=True, label=['Num of steps'])\r\n",
        "\r\n",
        "print(\"Promedio de steps: \", sum(x) / len(x))\r\n",
        "print(\"Max de steps:\", max(x))\r\n",
        "print(\"Min de steps:\", min(x))"
      ],
      "execution_count": 18,
      "outputs": [
        {
          "output_type": "stream",
          "text": [
            "Promedio de steps:  12.218650793650793\n",
            "Max de steps: 45\n",
            "Min de steps: 0\n"
          ],
          "name": "stdout"
        },
        {
          "output_type": "display_data",
          "data": {
            "image/png": "[encoded data removed]",
            "text/plain": [
              "<Figure size 432x288 with 1 Axes>"
            ]
          },
          "metadata": {
            "tags": [],
            "needs_background": "light"
          }
        }
      ]
    }
  ]
}